{
 "cells": [
  {
   "cell_type": "markdown",
   "metadata": {},
   "source": [
    "# ECG-based Age Group Prediction with RNN (LSTM)\n",
    "This notebook demonstrates how to train an LSTM-based recurrent neural network (RNN) to classify ECG signals into age groups."
   ]
  },
  {
   "cell_type": "code",
   "execution_count": null,
   "metadata": {},
   "outputs": [],
   "source": [
    "# ============================================================\n",
    "# 1. Imports\n",
    "# ============================================================\n",
    "import numpy as np\n",
    "import pandas as pd\n",
    "import matplotlib.pyplot as plt\n",
    "import seaborn as sns\n",
    "from sklearn.model_selection import train_test_split\n",
    "from sklearn.preprocessing import StandardScaler, LabelEncoder\n",
    "from sklearn.metrics import confusion_matrix, classification_report\n",
    "import tensorflow as tf\n",
    "from tensorflow.keras.models import Sequential\n",
    "from tensorflow.keras.layers import LSTM, Dense, Dropout\n",
    "from tensorflow.keras.utils import to_categorical\n",
    "from tensorflow.keras.callbacks import EarlyStopping"
   ]
  },
  {
   "cell_type": "code",
   "execution_count": null,
   "metadata": {},
   "outputs": [],
   "source": [
    "import wfdb\n",
    "import os\n",
    "\n",
    "DATA_PATH = \"autonomic-aging-cardiovascular-1.0.0\"\n",
    "\n",
    "# Load subject metadata (with Age)\n",
    "meta = pd.read_csv(os.path.join(DATA_PATH, \"SubjectInformation.csv\"))\n",
    "print(meta.head())\n",
    "\n",
    "# Example: read ECG for first subject\n",
    "record_name = os.path.join(DATA_PATH, \"ecg\", \"subject_001\")\n",
    "record = wfdb.rdrecord(record_name)\n",
    "signal = record.p_signal[:, 0]  # first ECG channel\n",
    "print(\"ECG shape:\", signal.shape)\n",
    "\n",
    "# Attach label (Age) for subject 001\n",
    "age = meta.loc[meta[\"ID\"] == \"subject_001\", \"Age\"].values[0]\n",
    "print(\"Age:\", age)\n"
   ]
  },
  {
   "cell_type": "code",
   "execution_count": null,
   "metadata": {},
   "outputs": [],
   "source": [
    "# ============================================================\n",
    "# 3. Preprocessing\n",
    "# ============================================================\n",
    "# Features (ECG signal) and labels (age group)\n",
    "X = []\n",
    "y = []\n",
    "\n",
    "for _, row in meta.iterrows():\n",
    "    subj_id = row[\"ID\"]\n",
    "    age = row[\"Age\"]\n",
    "\n",
    "    # read ECG signal\n",
    "    record_name = os.path.join(DATA_PATH, \"ecg\", subj_id)\n",
    "    record = wfdb.rdrecord(record_name)\n",
    "    sig = record.p_signal[:, 0]  # first channel\n",
    "\n",
    "    # take a fixed-length segment, e.g., 500 samples\n",
    "    if len(sig) >= 500:\n",
    "        X.append(sig[:500])\n",
    "        y.append(age)\n",
    "\n",
    "X = np.array(X)\n",
    "y = np.array(y)\n",
    "\n",
    "# Encode labels\n",
    "encoder = LabelEncoder()\n",
    "y_encoded = encoder.fit_transform(y)\n",
    "y_categorical = to_categorical(y_encoded)\n",
    "\n",
    "# Normalize features\n",
    "scaler = StandardScaler()\n",
    "X_scaled = scaler.fit_transform(X)\n",
    "\n",
    "# Reshape for RNN: (samples, timesteps, features)\n",
    "# Example: each ECG has 500 time points, 1 feature\n",
    "timesteps = 500\n",
    "X_reshaped = X_scaled.reshape(-1, timesteps, 1)\n",
    "\n",
    "# Train/validation/test split\n",
    "X_train, X_temp, y_train, y_temp = train_test_split(\n",
    "    X_reshaped, y_categorical, test_size=0.3, random_state=42, stratify=y_categorical)\n",
    "\n",
    "X_val, X_test, y_val, y_test = train_test_split(\n",
    "    X_temp, y_temp, test_size=0.5, random_state=42, stratify=y_temp)"
   ]
  },
  {
   "cell_type": "code",
   "execution_count": null,
   "metadata": {},
   "outputs": [],
   "source": [
    "# ============================================================\n",
    "# 4. Build LSTM model\n",
    "# ============================================================\n",
    "model = Sequential([\n",
    "    LSTM(128, return_sequences=True, input_shape=(timesteps, 1)),\n",
    "    Dropout(0.3),\n",
    "    LSTM(64),\n",
    "    Dropout(0.3),\n",
    "    Dense(32, activation=\"relu\"),\n",
    "    Dense(y_categorical.shape[1], activation=\"softmax\")\n",
    "])\n",
    "\n",
    "model.compile(loss=\"categorical_crossentropy\", optimizer=\"adam\", metrics=[\"accuracy\"])\n",
    "model.summary()"
   ]
  },
  {
   "cell_type": "code",
   "execution_count": null,
   "metadata": {},
   "outputs": [],
   "source": [
    "# ============================================================\n",
    "# 5. Train model\n",
    "# ============================================================\n",
    "early_stopping = EarlyStopping(monitor=\"val_loss\", patience=5, restore_best_weights=True)\n",
    "\n",
    "history = model.fit(\n",
    "    X_train, y_train,\n",
    "    validation_data=(X_val, y_val),\n",
    "    epochs=30,\n",
    "    batch_size=32,\n",
    "    callbacks=[early_stopping],\n",
    "    verbose=1\n",
    ")"
   ]
  },
  {
   "cell_type": "code",
   "execution_count": null,
   "metadata": {},
   "outputs": [],
   "source": [
    "# ============================================================\n",
    "# 6. Plot training history\n",
    "# ============================================================\n",
    "plt.figure(figsize=(12,5))\n",
    "\n",
    "plt.subplot(1,2,1)\n",
    "plt.plot(history.history['loss'], label='Train Loss')\n",
    "plt.plot(history.history['val_loss'], label='Val Loss')\n",
    "plt.legend()\n",
    "plt.title(\"Loss\")\n",
    "\n",
    "plt.subplot(1,2,2)\n",
    "plt.plot(history.history['accuracy'], label='Train Acc')\n",
    "plt.plot(history.history['val_accuracy'], label='Val Acc')\n",
    "plt.legend()\n",
    "plt.title(\"Accuracy\")\n",
    "\n",
    "plt.show()"
   ]
  },
  {
   "cell_type": "code",
   "execution_count": null,
   "metadata": {},
   "outputs": [],
   "source": [
    "# ============================================================\n",
    "# 7. Evaluation on test set\n",
    "# ============================================================\n",
    "test_loss, test_acc = model.evaluate(X_test, y_test, verbose=0)\n",
    "print(f\"Test Accuracy: {test_acc:.4f}\")"
   ]
  },
  {
   "cell_type": "code",
   "execution_count": null,
   "metadata": {},
   "outputs": [],
   "source": [
    "# ============================================================\n",
    "# 8. Predictions & Confusion Matrix\n",
    "# ============================================================\n",
    "y_pred_probs = model.predict(X_test, batch_size=32)\n",
    "y_pred = np.argmax(y_pred_probs, axis=1)\n",
    "y_true = np.argmax(y_test, axis=1)\n",
    "\n",
    "cm = confusion_matrix(y_true, y_pred)\n",
    "\n",
    "plt.figure(figsize=(10,8))\n",
    "sns.heatmap(cm, annot=True, fmt=\"d\", cmap=\"Blues\",\n",
    "            xticklabels=encoder.classes_,\n",
    "            yticklabels=encoder.classes_)\n",
    "plt.xlabel(\"Predicted\")\n",
    "plt.ylabel(\"True\")\n",
    "plt.title(\"Confusion Matrix (Age Groups)\")\n",
    "plt.show()"
   ]
  },
  {
   "cell_type": "code",
   "execution_count": null,
   "metadata": {},
   "outputs": [],
   "source": [
    "# ============================================================\n",
    "# 9. Classification Report\n",
    "# ============================================================\n",
    "report = classification_report(y_true, y_pred, target_names=encoder.classes_)\n",
    "print(report)"
   ]
  }
 ],
 "metadata": {
  "kernelspec": {
   "display_name": "Python 3",
   "language": "python",
   "name": "python3"
  },
  "language_info": {
   "name": "python",
   "version": "3.10"
  }
 },
 "nbformat": 4,
 "nbformat_minor": 5
}
